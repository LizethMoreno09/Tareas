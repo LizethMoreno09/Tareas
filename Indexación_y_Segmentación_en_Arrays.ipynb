{
  "cells": [
    {
      "cell_type": "markdown",
      "metadata": {
        "id": "view-in-github",
        "colab_type": "text"
      },
      "source": [
        "<a href=\"https://colab.research.google.com/github/LizethMoreno09/Tareas/blob/main/Indexaci%C3%B3n_y_Segmentaci%C3%B3n_en_Arrays.ipynb\" target=\"_parent\"><img src=\"https://colab.research.google.com/assets/colab-badge.svg\" alt=\"Open In Colab\"/></a>"
      ]
    },
    {
      "cell_type": "markdown",
      "id": "6be6c534",
      "metadata": {
        "id": "6be6c534"
      },
      "source": [
        "# Indexación y Segmentación de Arrays\n",
        "\n",
        "En esta lección vamos a aprender cómo:\n",
        "* **acceder a elementos específicos** de un array de NumPy a través de la **indexación**,\n",
        "* cortar (o hacer **slicing**) a nuestros arrays para obtener subconjuntos\n",
        "* usar **índices booleanos** para filtrar datos en los arrays.\n",
        "\n",
        "Mucho por aprender así que comencemos.\n",
        "\n",
        "### Indexar Arrays\n",
        "\n",
        "En NumPy, puedes acceder a elementos específicos de un array de la misma manera que en las listas de Python, utilizando **índices**.\n",
        "\n",
        "PAra estos ejemplos voy a crear dos arrays: uno unidimensional y otro bidimensional."
      ]
    },
    {
      "cell_type": "code",
      "execution_count": null,
      "id": "3f41f459",
      "metadata": {
        "id": "3f41f459"
      },
      "outputs": [],
      "source": [
        "import numpy as np"
      ]
    },
    {
      "cell_type": "code",
      "execution_count": null,
      "id": "abee74ec",
      "metadata": {
        "id": "abee74ec"
      },
      "outputs": [],
      "source": [
        "array1d = np.array([1, 2, 3, 4, 5])"
      ]
    },
    {
      "cell_type": "code",
      "execution_count": null,
      "id": "02b4206f",
      "metadata": {
        "id": "02b4206f"
      },
      "outputs": [],
      "source": [
        "array2d = np.array([[1, 2, 3],\n",
        "                    [4, 5, 6],\n",
        "                    [7, 8, 9]])"
      ]
    },
    {
      "cell_type": "markdown",
      "id": "ba33d68c",
      "metadata": {
        "id": "ba33d68c"
      },
      "source": [
        "¿Queremos acceder al **primer elemento** de un **array unidimensional**?"
      ]
    },
    {
      "cell_type": "code",
      "execution_count": null,
      "id": "4809af5b",
      "metadata": {
        "id": "4809af5b",
        "outputId": "b1ec9eb4-550d-45db-edc7-5d6593a9e59e"
      },
      "outputs": [
        {
          "data": {
            "text/plain": [
              "1"
            ]
          },
          "execution_count": 4,
          "metadata": {},
          "output_type": "execute_result"
        }
      ],
      "source": [
        "array1d[0]"
      ]
    },
    {
      "cell_type": "markdown",
      "id": "8eddef28",
      "metadata": {
        "id": "8eddef28"
      },
      "source": [
        "¿al último?"
      ]
    },
    {
      "cell_type": "code",
      "execution_count": null,
      "id": "3e23d50e",
      "metadata": {
        "id": "3e23d50e",
        "outputId": "154dd56a-4659-42aa-aea5-c5ff443c2520"
      },
      "outputs": [
        {
          "data": {
            "text/plain": [
              "5"
            ]
          },
          "execution_count": 5,
          "metadata": {},
          "output_type": "execute_result"
        }
      ],
      "source": [
        "array1d[-1]"
      ]
    },
    {
      "cell_type": "markdown",
      "id": "9b39b03b",
      "metadata": {
        "id": "9b39b03b"
      },
      "source": [
        "Fácil, esto es lo mismo que hacemos con las listas. Pero veamos qué pasa si hago lo mismo con mi array de **dos dimensiones**:"
      ]
    },
    {
      "cell_type": "code",
      "execution_count": null,
      "id": "dad74b48",
      "metadata": {
        "id": "dad74b48",
        "outputId": "bc04deb7-df88-45d4-db0d-f850ddc9cc3d"
      },
      "outputs": [
        {
          "data": {
            "text/plain": [
              "array([1, 2, 3])"
            ]
          },
          "execution_count": 6,
          "metadata": {},
          "output_type": "execute_result"
        }
      ],
      "source": [
        "array2d[0]"
      ]
    },
    {
      "cell_type": "markdown",
      "id": "86b3cc18",
      "metadata": {
        "id": "86b3cc18"
      },
      "source": [
        "Aquí lo que he obtenido es el primer elemento del array bidimensional, que es **la fila que se encuentra en el índice `0`**.\n",
        "\n",
        "Entonces si se da el caso de que yo quiero agarrar solamente el **numero 6** de este array (y no toda la fila en que se encuentra el 6), primero tengo que indexar la posición de la fila, y luego la posición del elemento 6."
      ]
    },
    {
      "cell_type": "code",
      "execution_count": null,
      "id": "7afe1796",
      "metadata": {
        "id": "7afe1796",
        "outputId": "07dfec28-3b04-4e30-a6c0-44f2d6ed0474"
      },
      "outputs": [
        {
          "data": {
            "text/plain": [
              "6"
            ]
          },
          "execution_count": 7,
          "metadata": {},
          "output_type": "execute_result"
        }
      ],
      "source": [
        "array2d[1][2]"
      ]
    },
    {
      "cell_type": "markdown",
      "id": "90e0cea6",
      "metadata": {
        "id": "90e0cea6"
      },
      "source": [
        "O también puedo escribirlo así… y es lo mismo."
      ]
    },
    {
      "cell_type": "code",
      "execution_count": null,
      "id": "037e7776",
      "metadata": {
        "id": "037e7776",
        "outputId": "5ad26266-7e64-441c-92f5-97620be65616"
      },
      "outputs": [
        {
          "data": {
            "text/plain": [
              "6"
            ]
          },
          "execution_count": 8,
          "metadata": {},
          "output_type": "execute_result"
        }
      ],
      "source": [
        "array2d[1, 2]"
      ]
    },
    {
      "cell_type": "markdown",
      "id": "3ee9ec5c",
      "metadata": {
        "id": "3ee9ec5c"
      },
      "source": [
        "### Seleccionar Subconjuntos (Slicing)\n",
        "\n",
        "Otra estrategia que ya conocemos en Python, y que también podemos aplicar con los arrays de NumPy, es el **slicing**, para seleccionar subconjuntos de datos.\n",
        "\n",
        "Para un array de **una dimensión**, lo aplicamos exactamente igual que con las listas:"
      ]
    },
    {
      "cell_type": "code",
      "execution_count": null,
      "id": "ba0b41cf",
      "metadata": {
        "id": "ba0b41cf",
        "outputId": "5426d50c-dddd-4cb6-9fac-62af30d1ec6e"
      },
      "outputs": [
        {
          "data": {
            "text/plain": [
              "array([2, 3, 4])"
            ]
          },
          "execution_count": 9,
          "metadata": {},
          "output_type": "execute_result"
        }
      ],
      "source": [
        "array1d[1:4]"
      ]
    },
    {
      "cell_type": "markdown",
      "id": "0687e2ed",
      "metadata": {
        "id": "0687e2ed"
      },
      "source": [
        "Para arrays **bidimensionales**, puedes hacer slicing tanto en filas como en columnas.\n",
        "\n",
        "Supongamos que quiero obtener la **segunda fila** completa:"
      ]
    },
    {
      "cell_type": "code",
      "execution_count": null,
      "id": "071b1dd0",
      "metadata": {
        "id": "071b1dd0",
        "outputId": "04ec73aa-6be2-4a39-d741-0dcfd411f1e4"
      },
      "outputs": [
        {
          "data": {
            "text/plain": [
              "array([4, 5, 6])"
            ]
          },
          "execution_count": 10,
          "metadata": {},
          "output_type": "execute_result"
        }
      ],
      "source": [
        "array2d[1, :]"
      ]
    },
    {
      "cell_type": "markdown",
      "id": "80da172c",
      "metadata": {
        "id": "80da172c"
      },
      "source": [
        "Pero si quiero obtener los **dos últimos números** de esa fila:"
      ]
    },
    {
      "cell_type": "code",
      "execution_count": null,
      "id": "11f69606",
      "metadata": {
        "id": "11f69606",
        "outputId": "e988896e-e383-4e4f-8a7a-5444350a4030"
      },
      "outputs": [
        {
          "data": {
            "text/plain": [
              "array([5, 6])"
            ]
          },
          "execution_count": 11,
          "metadata": {},
          "output_type": "execute_result"
        }
      ],
      "source": [
        "array2d[1, 1:3]"
      ]
    },
    {
      "cell_type": "markdown",
      "id": "a0ce2ba1",
      "metadata": {
        "id": "a0ce2ba1"
      },
      "source": [
        "También podemos usar el slicing para obtener **una columna completa**, por ejemplo la **columna del medio**:"
      ]
    },
    {
      "cell_type": "code",
      "execution_count": null,
      "id": "4784d528",
      "metadata": {
        "id": "4784d528",
        "outputId": "56497d05-ce80-4459-e8cc-8aafb900c5ab"
      },
      "outputs": [
        {
          "data": {
            "text/plain": [
              "array([2, 5, 8])"
            ]
          },
          "execution_count": 12,
          "metadata": {},
          "output_type": "execute_result"
        }
      ],
      "source": [
        "array2d[:, 1]"
      ]
    },
    {
      "cell_type": "markdown",
      "id": "77f0fa42",
      "metadata": {
        "id": "77f0fa42"
      },
      "source": [
        "Y un caso particular sería que queramos obtener los **dos primeros números** de las **primeras dos filas** y las **primeras dos columnas**, por ejemplo:"
      ]
    },
    {
      "cell_type": "code",
      "execution_count": null,
      "id": "e84751e6",
      "metadata": {
        "scrolled": true,
        "id": "e84751e6",
        "outputId": "e1e06545-308b-415f-c741-a61bafd4e0d5"
      },
      "outputs": [
        {
          "data": {
            "text/plain": [
              "array([[1, 2],\n",
              "       [4, 5]])"
            ]
          },
          "execution_count": 13,
          "metadata": {},
          "output_type": "execute_result"
        }
      ],
      "source": [
        "array2d[:2, :2]"
      ]
    },
    {
      "cell_type": "markdown",
      "id": "0052c1a9",
      "metadata": {
        "id": "0052c1a9"
      },
      "source": [
        "### Indexación Booleana\n",
        "\n",
        "Y por último, quiero presentarte la indexación booleana, que nos permite seleccionar elementos de un array **que cumplan con una condición específica**.\n",
        "\n",
        "Por ejemplo, quiero identificar qué números de mi array unidimensional son **mayores a 3**:"
      ]
    },
    {
      "cell_type": "code",
      "execution_count": null,
      "id": "00e2a7fe",
      "metadata": {
        "id": "00e2a7fe",
        "outputId": "22948a2f-ccd6-4eaa-f4ee-cca9873c6559"
      },
      "outputs": [
        {
          "data": {
            "text/plain": [
              "array([False, False, False,  True,  True])"
            ]
          },
          "execution_count": 14,
          "metadata": {},
          "output_type": "execute_result"
        }
      ],
      "source": [
        "array1d > 3"
      ]
    },
    {
      "cell_type": "markdown",
      "id": "80c47b87",
      "metadata": {
        "id": "80c47b87"
      },
      "source": [
        "O talvez en mi array de dos dimensiones quiero ver **qué números son pares**:"
      ]
    },
    {
      "cell_type": "code",
      "execution_count": null,
      "id": "e818a6ba",
      "metadata": {
        "id": "e818a6ba",
        "outputId": "1da80ea2-6c42-40f7-b127-0460eb160107"
      },
      "outputs": [
        {
          "data": {
            "text/plain": [
              "array([[False,  True, False],\n",
              "       [ True, False,  True],\n",
              "       [False,  True, False]])"
            ]
          },
          "execution_count": 15,
          "metadata": {},
          "output_type": "execute_result"
        }
      ],
      "source": [
        "array2d % 2 == 0"
      ]
    },
    {
      "cell_type": "markdown",
      "id": "1ff481dc",
      "metadata": {
        "id": "1ff481dc"
      },
      "source": [
        "La **indexación** y el **slicing** son herramientas poderosas en NumPy, ya que te permiten acceder y manipular datos de manera eficiente.\n",
        "\n",
        "La **indexación booleana**, en particular, aunque por ahora parezca sólo un juego de lógica divertido, es extremadamente útil para el análisis de datos, ya que permite filtrar datos según condiciones específicas, y vas a ir conociendo su utilidad práctica con el tiempo."
      ]
    },
    {
      "cell_type": "code",
      "execution_count": null,
      "id": "8ce80016",
      "metadata": {
        "id": "8ce80016"
      },
      "outputs": [],
      "source": []
    }
  ],
  "metadata": {
    "kernelspec": {
      "display_name": "Python 3 (ipykernel)",
      "language": "python",
      "name": "python3"
    },
    "language_info": {
      "codemirror_mode": {
        "name": "ipython",
        "version": 3
      },
      "file_extension": ".py",
      "mimetype": "text/x-python",
      "name": "python",
      "nbconvert_exporter": "python",
      "pygments_lexer": "ipython3",
      "version": "3.11.5"
    },
    "colab": {
      "provenance": [],
      "include_colab_link": true
    }
  },
  "nbformat": 4,
  "nbformat_minor": 5
}